{
 "cells": [
  {
   "cell_type": "code",
   "execution_count": 8,
   "id": "bdc7ecfc",
   "metadata": {},
   "outputs": [],
   "source": [
    "import numpy as np\n",
    "import matplotlib.pyplot as plt\n",
    "import gym\n",
    "import random"
   ]
  },
  {
   "cell_type": "code",
   "execution_count": 9,
   "id": "e2882bee",
   "metadata": {},
   "outputs": [],
   "source": [
    "env = gym.make(\"Taxi-v3\")"
   ]
  },
  {
   "cell_type": "code",
   "execution_count": 10,
   "id": "f34938df",
   "metadata": {},
   "outputs": [
    {
     "name": "stdout",
     "output_type": "stream",
     "text": [
      "+---------+\n",
      "|\u001b[34;1mR\u001b[0m: | : :\u001b[35mG\u001b[0m|\n",
      "| : | : : |\n",
      "| : : : : |\n",
      "| |\u001b[43m \u001b[0m: | : |\n",
      "|Y| : |B: |\n",
      "+---------+\n",
      "\n"
     ]
    }
   ],
   "source": [
    "env.render()"
   ]
  },
  {
   "cell_type": "code",
   "execution_count": 11,
   "id": "c405ff8b",
   "metadata": {},
   "outputs": [],
   "source": [
    "action_size = env.action_space.n\n",
    "state_size = env.observation_space.n"
   ]
  },
  {
   "cell_type": "code",
   "execution_count": 12,
   "id": "fc244d88",
   "metadata": {},
   "outputs": [],
   "source": [
    "q_table = np.zeros((state_size,action_size))"
   ]
  },
  {
   "cell_type": "code",
   "execution_count": 15,
   "id": "58cbfb9d",
   "metadata": {},
   "outputs": [],
   "source": [
    "gamma = 0.95 #discount rate\n",
    "alpha = 0.8\n",
    "epsilon = 0.1\n",
    "lr = 0.9 #learning rate\n",
    "reward_list = []\n",
    "episode_number = 30000"
   ]
  },
  {
   "cell_type": "code",
   "execution_count": 17,
   "id": "314415ee",
   "metadata": {},
   "outputs": [
    {
     "name": "stdout",
     "output_type": "stream",
     "text": [
      "Episode: 1000, reward -758\n",
      "Episode: 2000, reward -812\n",
      "Episode: 3000, reward -875\n",
      "Episode: 4000, reward -803\n",
      "Episode: 5000, reward -830\n",
      "Episode: 6000, reward -776\n",
      "Episode: 7000, reward -731\n",
      "Episode: 8000, reward -866\n",
      "Episode: 9000, reward -722\n",
      "Episode: 10000, reward -785\n",
      "Episode: 11000, reward -875\n",
      "Episode: 12000, reward -713\n",
      "Episode: 13000, reward -884\n",
      "Episode: 14000, reward -776\n",
      "Episode: 15000, reward -803\n",
      "Episode: 16000, reward -812\n",
      "Episode: 17000, reward -767\n",
      "Episode: 18000, reward -740\n",
      "Episode: 19000, reward -803\n",
      "Episode: 20000, reward -803\n",
      "Episode: 21000, reward -803\n",
      "Episode: 22000, reward -740\n",
      "Episode: 23000, reward -893\n",
      "Episode: 24000, reward -767\n",
      "Episode: 25000, reward -857\n",
      "Episode: 26000, reward -695\n",
      "Episode: 27000, reward -731\n",
      "Episode: 28000, reward -650\n",
      "Episode: 29000, reward -695\n"
     ]
    }
   ],
   "source": [
    "for i in range(1,episode_number):\n",
    "    state = env.reset()\n",
    "    reward_count = 0\n",
    "    while True:\n",
    "        #for inputs of state and action\n",
    "        action = env.action_space.sample()\n",
    "        next_state, reward, done, _ = env.step(action)\n",
    "        #we expect a q value as output\n",
    "        q_table[state, action] = q_table[state,action]+lr*(reward+gamma*np.max(q_table[next_state,:])-q_table[state,action])\n",
    "        #Qnew(s,a) = Q(s,a) + learning Rate * [R(s,a) + DiscountRate * max Q'(s',a') - Q (s,a)]\n",
    "        state = next_state #convery the state for other iteration  \n",
    "        reward_count += reward #update the reward\n",
    "        \n",
    "        if done:\n",
    "            break\n",
    "                \n",
    "    if i%1000 == 0:\n",
    "        reward_list.append(reward_count)\n",
    "        print(\"Episode: {}, reward {}\".format(i,reward_count))"
   ]
  },
  {
   "cell_type": "code",
   "execution_count": 18,
   "id": "2e773189",
   "metadata": {},
   "outputs": [
    {
     "name": "stdout",
     "output_type": "stream",
     "text": [
      "+---------+\n",
      "|\u001b[35mR\u001b[0m: | : :G|\n",
      "| : | : : |\n",
      "| : : : : |\n",
      "| | : | : |\n",
      "|Y| : |\u001b[34;1mB\u001b[0m:\u001b[43m \u001b[0m|\n",
      "+---------+\n",
      "\n",
      "+---------+\n",
      "|\u001b[35mR\u001b[0m: | : :G|\n",
      "| : | : : |\n",
      "| : : : : |\n",
      "| | : | : |\n",
      "|Y| : |\u001b[34;1m\u001b[43mB\u001b[0m\u001b[0m: |\n",
      "+---------+\n",
      "  (West)\n",
      "Total Reward = -1\n",
      "+---------+\n",
      "|\u001b[35mR\u001b[0m: | : :G|\n",
      "| : | : : |\n",
      "| : : : : |\n",
      "| | : | : |\n",
      "|Y| : |\u001b[42mB\u001b[0m: |\n",
      "+---------+\n",
      "  (Pickup)\n",
      "Total Reward = -2\n",
      "+---------+\n",
      "|\u001b[35mR\u001b[0m: | : :G|\n",
      "| : | : : |\n",
      "| : : : : |\n",
      "| | : |\u001b[42m_\u001b[0m: |\n",
      "|Y| : |B: |\n",
      "+---------+\n",
      "  (North)\n",
      "Total Reward = -3\n",
      "+---------+\n",
      "|\u001b[35mR\u001b[0m: | : :G|\n",
      "| : | : : |\n",
      "| : : :\u001b[42m_\u001b[0m: |\n",
      "| | : | : |\n",
      "|Y| : |B: |\n",
      "+---------+\n",
      "  (North)\n",
      "Total Reward = -4\n",
      "+---------+\n",
      "|\u001b[35mR\u001b[0m: | : :G|\n",
      "| : | : : |\n",
      "| : :\u001b[42m_\u001b[0m: : |\n",
      "| | : | : |\n",
      "|Y| : |B: |\n",
      "+---------+\n",
      "  (West)\n",
      "Total Reward = -5\n",
      "+---------+\n",
      "|\u001b[35mR\u001b[0m: | : :G|\n",
      "| : | : : |\n",
      "| :\u001b[42m_\u001b[0m: : : |\n",
      "| | : | : |\n",
      "|Y| : |B: |\n",
      "+---------+\n",
      "  (West)\n",
      "Total Reward = -6\n",
      "+---------+\n",
      "|\u001b[35mR\u001b[0m: | : :G|\n",
      "| :\u001b[42m_\u001b[0m| : : |\n",
      "| : : : : |\n",
      "| | : | : |\n",
      "|Y| : |B: |\n",
      "+---------+\n",
      "  (North)\n",
      "Total Reward = -7\n",
      "+---------+\n",
      "|\u001b[35mR\u001b[0m:\u001b[42m_\u001b[0m| : :G|\n",
      "| : | : : |\n",
      "| : : : : |\n",
      "| | : | : |\n",
      "|Y| : |B: |\n",
      "+---------+\n",
      "  (North)\n",
      "Total Reward = -8\n",
      "+---------+\n",
      "|\u001b[35m\u001b[42mR\u001b[0m\u001b[0m: | : :G|\n",
      "| : | : : |\n",
      "| : : : : |\n",
      "| | : | : |\n",
      "|Y| : |B: |\n",
      "+---------+\n",
      "  (West)\n",
      "Total Reward = -9\n",
      "+---------+\n",
      "|\u001b[35m\u001b[34;1m\u001b[43mR\u001b[0m\u001b[0m\u001b[0m: | : :G|\n",
      "| : | : : |\n",
      "| : : : : |\n",
      "| | : | : |\n",
      "|Y| : |B: |\n",
      "+---------+\n",
      "  (Dropoff)\n",
      "Total Reward = 11\n"
     ]
    }
   ],
   "source": [
    "state = env.reset()\n",
    "env.render()\n",
    "done = False\n",
    "total_reward = 0\n",
    "\n",
    "while(done == False):\n",
    "    action = np.argmax(q_table[state,:]) # best action\n",
    "    state, reward, done, info = env.step(action) # Take action\n",
    "    total_reward += reward  # Sum of rewards\n",
    "    env.render()\n",
    "    print('Total Reward =', total_reward)"
   ]
  }
 ],
 "metadata": {
  "kernelspec": {
   "display_name": "Python 3",
   "language": "python",
   "name": "python3"
  },
  "language_info": {
   "codemirror_mode": {
    "name": "ipython",
    "version": 3
   },
   "file_extension": ".py",
   "mimetype": "text/x-python",
   "name": "python",
   "nbconvert_exporter": "python",
   "pygments_lexer": "ipython3",
   "version": "3.8.8"
  }
 },
 "nbformat": 4,
 "nbformat_minor": 5
}
