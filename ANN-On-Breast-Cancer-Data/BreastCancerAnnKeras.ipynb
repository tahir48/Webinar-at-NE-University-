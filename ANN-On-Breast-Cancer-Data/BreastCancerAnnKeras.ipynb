{
 "cells": [
  {
   "cell_type": "code",
   "execution_count": 39,
   "id": "fbf35d1d",
   "metadata": {},
   "outputs": [],
   "source": [
    "import numpy as np\n",
    "import pandas as pd\n",
    "import matplotlib.pyplot as plt\n",
    "from keras.wrappers.scikit_learn import KerasClassifier\n",
    "from sklearn.model_selection import cross_val_score\n",
    "from keras.models import Sequential\n",
    "from keras.layers import Dense"
   ]
  },
  {
   "cell_type": "code",
   "execution_count": 40,
   "id": "24b54712",
   "metadata": {},
   "outputs": [],
   "source": [
    "df = pd.read_csv(\"Breast_cancer_data.csv\",na_values = \"NaN\")"
   ]
  },
  {
   "cell_type": "code",
   "execution_count": 41,
   "id": "4d745023",
   "metadata": {},
   "outputs": [
    {
     "data": {
      "text/html": [
       "<div>\n",
       "<style scoped>\n",
       "    .dataframe tbody tr th:only-of-type {\n",
       "        vertical-align: middle;\n",
       "    }\n",
       "\n",
       "    .dataframe tbody tr th {\n",
       "        vertical-align: top;\n",
       "    }\n",
       "\n",
       "    .dataframe thead th {\n",
       "        text-align: right;\n",
       "    }\n",
       "</style>\n",
       "<table border=\"1\" class=\"dataframe\">\n",
       "  <thead>\n",
       "    <tr style=\"text-align: right;\">\n",
       "      <th></th>\n",
       "      <th>mean_radius</th>\n",
       "      <th>mean_texture</th>\n",
       "      <th>mean_perimeter</th>\n",
       "      <th>mean_area</th>\n",
       "      <th>mean_smoothness</th>\n",
       "      <th>diagnosis</th>\n",
       "    </tr>\n",
       "  </thead>\n",
       "  <tbody>\n",
       "    <tr>\n",
       "      <th>0</th>\n",
       "      <td>17.99</td>\n",
       "      <td>10.38</td>\n",
       "      <td>122.80</td>\n",
       "      <td>1001.0</td>\n",
       "      <td>0.11840</td>\n",
       "      <td>0</td>\n",
       "    </tr>\n",
       "    <tr>\n",
       "      <th>1</th>\n",
       "      <td>20.57</td>\n",
       "      <td>17.77</td>\n",
       "      <td>132.90</td>\n",
       "      <td>1326.0</td>\n",
       "      <td>0.08474</td>\n",
       "      <td>0</td>\n",
       "    </tr>\n",
       "    <tr>\n",
       "      <th>2</th>\n",
       "      <td>19.69</td>\n",
       "      <td>21.25</td>\n",
       "      <td>130.00</td>\n",
       "      <td>1203.0</td>\n",
       "      <td>0.10960</td>\n",
       "      <td>0</td>\n",
       "    </tr>\n",
       "    <tr>\n",
       "      <th>3</th>\n",
       "      <td>11.42</td>\n",
       "      <td>20.38</td>\n",
       "      <td>77.58</td>\n",
       "      <td>386.1</td>\n",
       "      <td>0.14250</td>\n",
       "      <td>0</td>\n",
       "    </tr>\n",
       "    <tr>\n",
       "      <th>4</th>\n",
       "      <td>20.29</td>\n",
       "      <td>14.34</td>\n",
       "      <td>135.10</td>\n",
       "      <td>1297.0</td>\n",
       "      <td>0.10030</td>\n",
       "      <td>0</td>\n",
       "    </tr>\n",
       "  </tbody>\n",
       "</table>\n",
       "</div>"
      ],
      "text/plain": [
       "   mean_radius  mean_texture  mean_perimeter  mean_area  mean_smoothness  \\\n",
       "0        17.99         10.38          122.80     1001.0          0.11840   \n",
       "1        20.57         17.77          132.90     1326.0          0.08474   \n",
       "2        19.69         21.25          130.00     1203.0          0.10960   \n",
       "3        11.42         20.38           77.58      386.1          0.14250   \n",
       "4        20.29         14.34          135.10     1297.0          0.10030   \n",
       "\n",
       "   diagnosis  \n",
       "0          0  \n",
       "1          0  \n",
       "2          0  \n",
       "3          0  \n",
       "4          0  "
      ]
     },
     "execution_count": 41,
     "metadata": {},
     "output_type": "execute_result"
    }
   ],
   "source": [
    "df.head()"
   ]
  },
  {
   "cell_type": "code",
   "execution_count": 42,
   "id": "51b13f33",
   "metadata": {},
   "outputs": [
    {
     "data": {
      "text/plain": [
       "mean_radius  mean_texture  mean_perimeter  mean_area  mean_smoothness  diagnosis\n",
       "False        False         False           False      False            False        569\n",
       "dtype: int64"
      ]
     },
     "execution_count": 42,
     "metadata": {},
     "output_type": "execute_result"
    }
   ],
   "source": [
    "df.isnull().value_counts()"
   ]
  },
  {
   "cell_type": "code",
   "execution_count": 43,
   "id": "5a87236c",
   "metadata": {},
   "outputs": [],
   "source": [
    "X = df.drop(\"diagnosis\",1).values\n",
    "y = df[\"diagnosis\"].values.reshape(-1,1)"
   ]
  },
  {
   "cell_type": "markdown",
   "id": "e66e16a9",
   "metadata": {},
   "source": [
    "We normalize the data"
   ]
  },
  {
   "cell_type": "code",
   "execution_count": 44,
   "id": "46ad6c72",
   "metadata": {},
   "outputs": [],
   "source": [
    "X = (X-np.min(X))/(np.max(X)-np.min(X))"
   ]
  },
  {
   "cell_type": "code",
   "execution_count": 45,
   "id": "9f9c9eec",
   "metadata": {},
   "outputs": [],
   "source": [
    "from sklearn.model_selection import train_test_split\n",
    "X_train, X_test, Y_train, Y_test = train_test_split(X, y, test_size=0.15, random_state=42)"
   ]
  },
  {
   "cell_type": "code",
   "execution_count": 46,
   "id": "98c272bb",
   "metadata": {},
   "outputs": [
    {
     "name": "stdout",
     "output_type": "stream",
     "text": [
      "x train:  (483, 5)\n",
      "x test:  (86, 5)\n",
      "y train:  (483, 1)\n",
      "y test:  (86, 1)\n"
     ]
    }
   ],
   "source": [
    "x_train = X_train\n",
    "x_test = X_test\n",
    "y_train = Y_train\n",
    "y_test = Y_test\n",
    "print(\"x train: \",x_train.shape)\n",
    "print(\"x test: \",x_test.shape)\n",
    "print(\"y train: \",y_train.shape)\n",
    "print(\"y test: \",y_test.shape)"
   ]
  },
  {
   "cell_type": "code",
   "execution_count": 47,
   "id": "22c51a1b",
   "metadata": {},
   "outputs": [],
   "source": [
    "# initialize a model with linear layers\n",
    "classifier = Sequential()\n",
    "# Input Layer\n",
    "classifier.add(Dense(units = 8, kernel_initializer = 'uniform', activation = 'relu', input_dim = x_train.shape[1]))\n",
    "# One hidden layer with 4 inputs\n",
    "classifier.add(Dense(units = 4, kernel_initializer = 'uniform', activation = 'relu'))\n",
    "# The output layer\n",
    "classifier.add(Dense(units = 1, kernel_initializer = 'uniform', activation = 'sigmoid'))\n",
    "classifier.compile(optimizer = 'adam', loss = 'binary_crossentropy', metrics = ['accuracy'])\n",
    "# adams method is used for optimization (dynamic learning rate)\n",
    "# binary cross entrophy is used for loss function\n",
    "# accuracy is used to evaluate the model performance"
   ]
  },
  {
   "cell_type": "code",
   "execution_count": 48,
   "id": "e2641798",
   "metadata": {},
   "outputs": [
    {
     "name": "stdout",
     "output_type": "stream",
     "text": [
      "Epoch 1/100\n",
      " 1/16 [>.............................] - ETA: 0s - loss: 0.6931 - accuracy: 0.6562WARNING:tensorflow:Callbacks method `on_train_batch_end` is slow compared to the batch time (batch time: 0.0000s vs `on_train_batch_end` time: 0.0010s). Check your callbacks.\n",
      "16/16 [==============================] - 0s 928us/step - loss: 0.6922 - accuracy: 0.6273\n",
      "Epoch 2/100\n",
      "16/16 [==============================] - 0s 892us/step - loss: 0.6900 - accuracy: 0.6273\n",
      "Epoch 3/100\n",
      "16/16 [==============================] - 0s 962us/step - loss: 0.6875 - accuracy: 0.6273\n",
      "Epoch 4/100\n",
      "16/16 [==============================] - 0s 935us/step - loss: 0.6845 - accuracy: 0.6273\n",
      "Epoch 5/100\n",
      "16/16 [==============================] - 0s 873us/step - loss: 0.6810 - accuracy: 0.6273\n",
      "Epoch 6/100\n",
      "16/16 [==============================] - 0s 873us/step - loss: 0.6771 - accuracy: 0.6273\n",
      "Epoch 7/100\n",
      "16/16 [==============================] - 0s 930us/step - loss: 0.6726 - accuracy: 0.6273\n",
      "Epoch 8/100\n",
      "16/16 [==============================] - 0s 875us/step - loss: 0.6682 - accuracy: 0.6273\n",
      "Epoch 9/100\n",
      "16/16 [==============================] - 0s 935us/step - loss: 0.6634 - accuracy: 0.6273\n",
      "Epoch 10/100\n",
      "16/16 [==============================] - 0s 896us/step - loss: 0.6588 - accuracy: 0.6273\n",
      "Epoch 11/100\n",
      "16/16 [==============================] - 0s 951us/step - loss: 0.6539 - accuracy: 0.6273\n",
      "Epoch 12/100\n",
      "16/16 [==============================] - 0s 933us/step - loss: 0.6486 - accuracy: 0.6273\n",
      "Epoch 13/100\n",
      "16/16 [==============================] - 0s 928us/step - loss: 0.6432 - accuracy: 0.6273\n",
      "Epoch 14/100\n",
      "16/16 [==============================] - 0s 923us/step - loss: 0.6384 - accuracy: 0.6273\n",
      "Epoch 15/100\n",
      "16/16 [==============================] - 0s 936us/step - loss: 0.6330 - accuracy: 0.6273\n",
      "Epoch 16/100\n",
      "16/16 [==============================] - 0s 857us/step - loss: 0.6270 - accuracy: 0.6273\n",
      "Epoch 17/100\n",
      "16/16 [==============================] - ETA: 0s - loss: 0.6251 - accuracy: 0.62 - 0s 909us/step - loss: 0.6208 - accuracy: 0.6273\n",
      "Epoch 18/100\n",
      "16/16 [==============================] - 0s 963us/step - loss: 0.6146 - accuracy: 0.6273\n",
      "Epoch 19/100\n",
      "16/16 [==============================] - ETA: 0s - loss: 0.5587 - accuracy: 0.75 - 0s 913us/step - loss: 0.6074 - accuracy: 0.6273\n",
      "Epoch 20/100\n",
      "16/16 [==============================] - 0s 876us/step - loss: 0.6000 - accuracy: 0.6273\n",
      "Epoch 21/100\n",
      "16/16 [==============================] - 0s 917us/step - loss: 0.5926 - accuracy: 0.6273\n",
      "Epoch 22/100\n",
      "16/16 [==============================] - 0s 871us/step - loss: 0.5851 - accuracy: 0.6273\n",
      "Epoch 23/100\n",
      "16/16 [==============================] - 0s 848us/step - loss: 0.5772 - accuracy: 0.6273\n",
      "Epoch 24/100\n",
      "16/16 [==============================] - 0s 872us/step - loss: 0.5702 - accuracy: 0.6273\n",
      "Epoch 25/100\n",
      "16/16 [==============================] - 0s 871us/step - loss: 0.5630 - accuracy: 0.6273\n",
      "Epoch 26/100\n",
      "16/16 [==============================] - 0s 866us/step - loss: 0.5568 - accuracy: 0.6273\n",
      "Epoch 27/100\n",
      "16/16 [==============================] - 0s 810us/step - loss: 0.5514 - accuracy: 0.6273\n",
      "Epoch 28/100\n",
      "16/16 [==============================] - 0s 997us/step - loss: 0.5459 - accuracy: 0.6273\n",
      "Epoch 29/100\n",
      "16/16 [==============================] - 0s 877us/step - loss: 0.5406 - accuracy: 0.6273\n",
      "Epoch 30/100\n",
      "16/16 [==============================] - 0s 876us/step - loss: 0.5356 - accuracy: 0.6273\n",
      "Epoch 31/100\n",
      "16/16 [==============================] - 0s 873us/step - loss: 0.5302 - accuracy: 0.6273\n",
      "Epoch 32/100\n",
      "16/16 [==============================] - 0s 921us/step - loss: 0.5257 - accuracy: 0.6273\n",
      "Epoch 33/100\n",
      "16/16 [==============================] - 0s 843us/step - loss: 0.5210 - accuracy: 0.6273\n",
      "Epoch 34/100\n",
      "16/16 [==============================] - 0s 902us/step - loss: 0.5160 - accuracy: 0.6273\n",
      "Epoch 35/100\n",
      "16/16 [==============================] - 0s 898us/step - loss: 0.5119 - accuracy: 0.6273\n",
      "Epoch 36/100\n",
      "16/16 [==============================] - 0s 873us/step - loss: 0.5073 - accuracy: 0.6273\n",
      "Epoch 37/100\n",
      "16/16 [==============================] - 0s 811us/step - loss: 0.5037 - accuracy: 0.6273\n",
      "Epoch 38/100\n",
      "16/16 [==============================] - 0s 805us/step - loss: 0.4998 - accuracy: 0.6273\n",
      "Epoch 39/100\n",
      "16/16 [==============================] - 0s 811us/step - loss: 0.4953 - accuracy: 0.6273\n",
      "Epoch 40/100\n",
      "16/16 [==============================] - 0s 923us/step - loss: 0.4917 - accuracy: 0.7681\n",
      "Epoch 41/100\n",
      "16/16 [==============================] - 0s 811us/step - loss: 0.4884 - accuracy: 0.8095\n",
      "Epoch 42/100\n",
      "16/16 [==============================] - 0s 811us/step - loss: 0.4846 - accuracy: 0.8219\n",
      "Epoch 43/100\n",
      "16/16 [==============================] - 0s 873us/step - loss: 0.4816 - accuracy: 0.8240\n",
      "Epoch 44/100\n",
      "16/16 [==============================] - 0s 1ms/step - loss: 0.4786 - accuracy: 0.8282\n",
      "Epoch 45/100\n",
      "16/16 [==============================] - 0s 1ms/step - loss: 0.4747 - accuracy: 0.8323\n",
      "Epoch 46/100\n",
      "16/16 [==============================] - 0s 1ms/step - loss: 0.4723 - accuracy: 0.8344\n",
      "Epoch 47/100\n",
      "16/16 [==============================] - 0s 873us/step - loss: 0.4691 - accuracy: 0.8344\n",
      "Epoch 48/100\n",
      "16/16 [==============================] - 0s 810us/step - loss: 0.4675 - accuracy: 0.8344\n",
      "Epoch 49/100\n",
      "16/16 [==============================] - 0s 810us/step - loss: 0.4636 - accuracy: 0.8344\n",
      "Epoch 50/100\n",
      "16/16 [==============================] - 0s 685us/step - loss: 0.4615 - accuracy: 0.8344\n",
      "Epoch 51/100\n",
      "16/16 [==============================] - 0s 748us/step - loss: 0.4584 - accuracy: 0.8385\n",
      "Epoch 52/100\n",
      "16/16 [==============================] - 0s 686us/step - loss: 0.4558 - accuracy: 0.8406\n",
      "Epoch 53/100\n",
      "16/16 [==============================] - 0s 748us/step - loss: 0.4538 - accuracy: 0.8406\n",
      "Epoch 54/100\n",
      "16/16 [==============================] - 0s 686us/step - loss: 0.4513 - accuracy: 0.8385\n",
      "Epoch 55/100\n",
      "16/16 [==============================] - 0s 561us/step - loss: 0.4483 - accuracy: 0.8385\n",
      "Epoch 56/100\n",
      "16/16 [==============================] - 0s 623us/step - loss: 0.4458 - accuracy: 0.8447\n",
      "Epoch 57/100\n",
      "16/16 [==============================] - 0s 686us/step - loss: 0.4439 - accuracy: 0.8427\n",
      "Epoch 58/100\n",
      "16/16 [==============================] - 0s 623us/step - loss: 0.4419 - accuracy: 0.8406\n",
      "Epoch 59/100\n",
      "16/16 [==============================] - 0s 623us/step - loss: 0.4393 - accuracy: 0.8489\n",
      "Epoch 60/100\n",
      "16/16 [==============================] - 0s 623us/step - loss: 0.4369 - accuracy: 0.8530\n",
      "Epoch 61/100\n",
      "16/16 [==============================] - 0s 686us/step - loss: 0.4352 - accuracy: 0.8509\n",
      "Epoch 62/100\n",
      "16/16 [==============================] - 0s 748us/step - loss: 0.4331 - accuracy: 0.8489\n",
      "Epoch 63/100\n",
      "16/16 [==============================] - 0s 748us/step - loss: 0.4314 - accuracy: 0.8530\n",
      "Epoch 64/100\n",
      "16/16 [==============================] - 0s 623us/step - loss: 0.4286 - accuracy: 0.8551\n",
      "Epoch 65/100\n",
      "16/16 [==============================] - 0s 686us/step - loss: 0.4268 - accuracy: 0.8613\n",
      "Epoch 66/100\n",
      "16/16 [==============================] - 0s 686us/step - loss: 0.4254 - accuracy: 0.8551\n",
      "Epoch 67/100\n",
      "16/16 [==============================] - 0s 686us/step - loss: 0.4230 - accuracy: 0.8551\n",
      "Epoch 68/100\n",
      "16/16 [==============================] - 0s 623us/step - loss: 0.4222 - accuracy: 0.8530\n",
      "Epoch 69/100\n",
      "16/16 [==============================] - 0s 689us/step - loss: 0.4196 - accuracy: 0.8551\n",
      "Epoch 70/100\n",
      "16/16 [==============================] - 0s 686us/step - loss: 0.4178 - accuracy: 0.8592\n",
      "Epoch 71/100\n",
      "16/16 [==============================] - 0s 686us/step - loss: 0.4161 - accuracy: 0.8634\n",
      "Epoch 72/100\n",
      "16/16 [==============================] - 0s 686us/step - loss: 0.4141 - accuracy: 0.8634\n",
      "Epoch 73/100\n",
      "16/16 [==============================] - 0s 748us/step - loss: 0.4132 - accuracy: 0.8592\n",
      "Epoch 74/100\n",
      "16/16 [==============================] - 0s 747us/step - loss: 0.4114 - accuracy: 0.8613\n",
      "Epoch 75/100\n",
      "16/16 [==============================] - 0s 686us/step - loss: 0.4101 - accuracy: 0.8613\n",
      "Epoch 76/100\n",
      "16/16 [==============================] - 0s 625us/step - loss: 0.4089 - accuracy: 0.8592\n",
      "Epoch 77/100\n",
      "16/16 [==============================] - 0s 686us/step - loss: 0.4071 - accuracy: 0.8634\n",
      "Epoch 78/100\n"
     ]
    },
    {
     "name": "stdout",
     "output_type": "stream",
     "text": [
      "16/16 [==============================] - 0s 686us/step - loss: 0.4053 - accuracy: 0.8634\n",
      "Epoch 79/100\n",
      "16/16 [==============================] - 0s 685us/step - loss: 0.4055 - accuracy: 0.8613\n",
      "Epoch 80/100\n",
      "16/16 [==============================] - 0s 723us/step - loss: 0.4035 - accuracy: 0.8696\n",
      "Epoch 81/100\n",
      "16/16 [==============================] - 0s 748us/step - loss: 0.4012 - accuracy: 0.8737\n",
      "Epoch 82/100\n",
      "16/16 [==============================] - 0s 623us/step - loss: 0.4001 - accuracy: 0.8654\n",
      "Epoch 83/100\n",
      "16/16 [==============================] - 0s 625us/step - loss: 0.3992 - accuracy: 0.8654\n",
      "Epoch 84/100\n",
      "16/16 [==============================] - 0s 623us/step - loss: 0.3972 - accuracy: 0.8675\n",
      "Epoch 85/100\n",
      "16/16 [==============================] - 0s 686us/step - loss: 0.3977 - accuracy: 0.8820\n",
      "Epoch 86/100\n",
      "16/16 [==============================] - 0s 686us/step - loss: 0.3964 - accuracy: 0.8799\n",
      "Epoch 87/100\n",
      "16/16 [==============================] - 0s 623us/step - loss: 0.3953 - accuracy: 0.8799\n",
      "Epoch 88/100\n",
      "16/16 [==============================] - 0s 623us/step - loss: 0.3934 - accuracy: 0.8799\n",
      "Epoch 89/100\n",
      "16/16 [==============================] - 0s 623us/step - loss: 0.3912 - accuracy: 0.8737\n",
      "Epoch 90/100\n",
      "16/16 [==============================] - 0s 686us/step - loss: 0.3915 - accuracy: 0.8634\n",
      "Epoch 91/100\n",
      "16/16 [==============================] - 0s 746us/step - loss: 0.3896 - accuracy: 0.8778\n",
      "Epoch 92/100\n",
      "16/16 [==============================] - 0s 684us/step - loss: 0.3892 - accuracy: 0.8820\n",
      "Epoch 93/100\n",
      "16/16 [==============================] - 0s 623us/step - loss: 0.3873 - accuracy: 0.8758\n",
      "Epoch 94/100\n",
      "16/16 [==============================] - 0s 622us/step - loss: 0.3863 - accuracy: 0.8737\n",
      "Epoch 95/100\n",
      "16/16 [==============================] - 0s 686us/step - loss: 0.3854 - accuracy: 0.8778\n",
      "Epoch 96/100\n",
      "16/16 [==============================] - 0s 686us/step - loss: 0.3851 - accuracy: 0.8841\n",
      "Epoch 97/100\n",
      "16/16 [==============================] - 0s 622us/step - loss: 0.3838 - accuracy: 0.8820\n",
      "Epoch 98/100\n",
      "16/16 [==============================] - 0s 687us/step - loss: 0.3827 - accuracy: 0.8758\n",
      "Epoch 99/100\n",
      "16/16 [==============================] - 0s 748us/step - loss: 0.3823 - accuracy: 0.8758\n",
      "Epoch 100/100\n",
      "16/16 [==============================] - 0s 748us/step - loss: 0.3810 - accuracy: 0.8737\n"
     ]
    },
    {
     "data": {
      "text/plain": [
       "<tensorflow.python.keras.callbacks.History at 0x226b0e2fd00>"
      ]
     },
     "execution_count": 48,
     "metadata": {},
     "output_type": "execute_result"
    }
   ],
   "source": [
    "classifier.fit(x_train, y_train, epochs=100)"
   ]
  },
  {
   "cell_type": "code",
   "execution_count": 49,
   "id": "43764020",
   "metadata": {},
   "outputs": [
    {
     "name": "stdout",
     "output_type": "stream",
     "text": [
      "Training Accuracy: 0.8799172043800354%\n",
      "Test Accuracy: 0.9418604373931885%\n"
     ]
    }
   ],
   "source": [
    "pred_train= classifier.predict(x_train)\n",
    "scores = classifier.evaluate(x_train, y_train, verbose=0)\n",
    "print('Training Accuracy: {}%'.format(scores[1]))   \n",
    " \n",
    "pred_test= classifier.predict(x_test)\n",
    "scores2 = classifier.evaluate(x_test, y_test, verbose=0)\n",
    "print('Test Accuracy: {}%'.format(scores2[1]))"
   ]
  }
 ],
 "metadata": {
  "kernelspec": {
   "display_name": "Python 3",
   "language": "python",
   "name": "python3"
  },
  "language_info": {
   "codemirror_mode": {
    "name": "ipython",
    "version": 3
   },
   "file_extension": ".py",
   "mimetype": "text/x-python",
   "name": "python",
   "nbconvert_exporter": "python",
   "pygments_lexer": "ipython3",
   "version": "3.8.8"
  }
 },
 "nbformat": 4,
 "nbformat_minor": 5
}
