{
 "cells": [
  {
   "cell_type": "code",
   "execution_count": 55,
   "id": "fbf35d1d",
   "metadata": {},
   "outputs": [],
   "source": [
    "import numpy as np\n",
    "import pandas as pd\n",
    "import matplotlib.pyplot as plt"
   ]
  },
  {
   "cell_type": "code",
   "execution_count": 56,
   "id": "24b54712",
   "metadata": {},
   "outputs": [],
   "source": [
    "df = pd.read_csv(\"Breast_cancer_data.csv\",na_values = \"NaN\")"
   ]
  },
  {
   "cell_type": "code",
   "execution_count": 57,
   "id": "4d745023",
   "metadata": {},
   "outputs": [
    {
     "data": {
      "text/html": [
       "<div>\n",
       "<style scoped>\n",
       "    .dataframe tbody tr th:only-of-type {\n",
       "        vertical-align: middle;\n",
       "    }\n",
       "\n",
       "    .dataframe tbody tr th {\n",
       "        vertical-align: top;\n",
       "    }\n",
       "\n",
       "    .dataframe thead th {\n",
       "        text-align: right;\n",
       "    }\n",
       "</style>\n",
       "<table border=\"1\" class=\"dataframe\">\n",
       "  <thead>\n",
       "    <tr style=\"text-align: right;\">\n",
       "      <th></th>\n",
       "      <th>mean_radius</th>\n",
       "      <th>mean_texture</th>\n",
       "      <th>mean_perimeter</th>\n",
       "      <th>mean_area</th>\n",
       "      <th>mean_smoothness</th>\n",
       "      <th>diagnosis</th>\n",
       "    </tr>\n",
       "  </thead>\n",
       "  <tbody>\n",
       "    <tr>\n",
       "      <th>0</th>\n",
       "      <td>17.99</td>\n",
       "      <td>10.38</td>\n",
       "      <td>122.80</td>\n",
       "      <td>1001.0</td>\n",
       "      <td>0.11840</td>\n",
       "      <td>0</td>\n",
       "    </tr>\n",
       "    <tr>\n",
       "      <th>1</th>\n",
       "      <td>20.57</td>\n",
       "      <td>17.77</td>\n",
       "      <td>132.90</td>\n",
       "      <td>1326.0</td>\n",
       "      <td>0.08474</td>\n",
       "      <td>0</td>\n",
       "    </tr>\n",
       "    <tr>\n",
       "      <th>2</th>\n",
       "      <td>19.69</td>\n",
       "      <td>21.25</td>\n",
       "      <td>130.00</td>\n",
       "      <td>1203.0</td>\n",
       "      <td>0.10960</td>\n",
       "      <td>0</td>\n",
       "    </tr>\n",
       "    <tr>\n",
       "      <th>3</th>\n",
       "      <td>11.42</td>\n",
       "      <td>20.38</td>\n",
       "      <td>77.58</td>\n",
       "      <td>386.1</td>\n",
       "      <td>0.14250</td>\n",
       "      <td>0</td>\n",
       "    </tr>\n",
       "    <tr>\n",
       "      <th>4</th>\n",
       "      <td>20.29</td>\n",
       "      <td>14.34</td>\n",
       "      <td>135.10</td>\n",
       "      <td>1297.0</td>\n",
       "      <td>0.10030</td>\n",
       "      <td>0</td>\n",
       "    </tr>\n",
       "  </tbody>\n",
       "</table>\n",
       "</div>"
      ],
      "text/plain": [
       "   mean_radius  mean_texture  mean_perimeter  mean_area  mean_smoothness  \\\n",
       "0        17.99         10.38          122.80     1001.0          0.11840   \n",
       "1        20.57         17.77          132.90     1326.0          0.08474   \n",
       "2        19.69         21.25          130.00     1203.0          0.10960   \n",
       "3        11.42         20.38           77.58      386.1          0.14250   \n",
       "4        20.29         14.34          135.10     1297.0          0.10030   \n",
       "\n",
       "   diagnosis  \n",
       "0          0  \n",
       "1          0  \n",
       "2          0  \n",
       "3          0  \n",
       "4          0  "
      ]
     },
     "execution_count": 57,
     "metadata": {},
     "output_type": "execute_result"
    }
   ],
   "source": [
    "df.head()"
   ]
  },
  {
   "cell_type": "code",
   "execution_count": 58,
   "id": "51b13f33",
   "metadata": {},
   "outputs": [
    {
     "data": {
      "text/plain": [
       "mean_radius  mean_texture  mean_perimeter  mean_area  mean_smoothness  diagnosis\n",
       "False        False         False           False      False            False        569\n",
       "dtype: int64"
      ]
     },
     "execution_count": 58,
     "metadata": {},
     "output_type": "execute_result"
    }
   ],
   "source": [
    "df.isnull().value_counts()"
   ]
  },
  {
   "cell_type": "code",
   "execution_count": 59,
   "id": "5a87236c",
   "metadata": {},
   "outputs": [],
   "source": [
    "X = df.drop(\"diagnosis\",1).values\n",
    "y = df[\"diagnosis\"].values.reshape(-1,1)"
   ]
  },
  {
   "cell_type": "markdown",
   "id": "e66e16a9",
   "metadata": {},
   "source": [
    "We normalize the data"
   ]
  },
  {
   "cell_type": "code",
   "execution_count": 60,
   "id": "46ad6c72",
   "metadata": {},
   "outputs": [],
   "source": [
    "X = (X-np.min(X))/(np.max(X)-np.min(X))"
   ]
  },
  {
   "cell_type": "code",
   "execution_count": 61,
   "id": "9f9c9eec",
   "metadata": {},
   "outputs": [],
   "source": [
    "from sklearn.model_selection import train_test_split\n",
    "X_train, X_test, Y_train, Y_test = train_test_split(X, y, test_size=0.15, random_state=42)"
   ]
  },
  {
   "cell_type": "code",
   "execution_count": 62,
   "id": "98c272bb",
   "metadata": {},
   "outputs": [
    {
     "name": "stdout",
     "output_type": "stream",
     "text": [
      "x train:  (5, 483)\n",
      "x test:  (5, 86)\n",
      "y train:  (1, 483)\n",
      "y test:  (1, 86)\n"
     ]
    }
   ],
   "source": [
    "x_train = X_train.T\n",
    "x_test = X_test.T\n",
    "y_train = Y_train.T\n",
    "y_test = Y_test.T\n",
    "print(\"x train: \",x_train.shape)\n",
    "print(\"x test: \",x_test.shape)\n",
    "print(\"y train: \",y_train.shape)\n",
    "print(\"y test: \",y_test.shape)"
   ]
  },
  {
   "cell_type": "code",
   "execution_count": 63,
   "id": "0e14ae21",
   "metadata": {},
   "outputs": [],
   "source": [
    "cost_list = []\n",
    "index_list = []\n",
    "learning_rate = 0.5\n",
    "w1 = np.random.randn(3,x_train.shape[0]) * 0.1\n",
    "b1 = np.zeros((3,1))\n",
    "w2 = np.random.randn(y_train.shape[0],3) * 0.1\n",
    "b2 = np.zeros((y_train.shape[0],1))"
   ]
  },
  {
   "cell_type": "code",
   "execution_count": 64,
   "id": "24b588b7",
   "metadata": {},
   "outputs": [
    {
     "name": "stdout",
     "output_type": "stream",
     "text": [
      "Cost after 0: th iteration 0.435299\n",
      "Cost after 50: th iteration 0.290980\n",
      "Cost after 100: th iteration 0.271438\n",
      "Cost after 150: th iteration 0.202290\n",
      "Cost after 200: th iteration 0.154647\n",
      "Cost after 250: th iteration 0.137389\n",
      "Cost after 300: th iteration 0.130899\n",
      "Cost after 350: th iteration 0.128157\n",
      "Cost after 400: th iteration 0.126889\n",
      "Cost after 450: th iteration 0.126260\n",
      "Cost after 500: th iteration 0.125927\n",
      "Cost after 550: th iteration 0.125741\n",
      "Cost after 600: th iteration 0.125631\n",
      "Cost after 650: th iteration 0.125562\n",
      "Cost after 700: th iteration 0.125516\n",
      "Cost after 750: th iteration 0.125484\n",
      "Cost after 800: th iteration 0.125461\n",
      "Cost after 850: th iteration 0.125444\n",
      "Cost after 900: th iteration 0.125431\n",
      "Cost after 950: th iteration 0.125420\n"
     ]
    }
   ],
   "source": [
    "for i in range(0,1000):\n",
    "    #forward propagation\n",
    "    Z1 = np.dot(w1,x_train) + b1\n",
    "    A1 = np.tanh(Z1)\n",
    "    Z2 = np.dot(w2,A1) + b2\n",
    "    A2 = 1/(1+np.exp(-Z2))\n",
    "    #cost\n",
    "    cost = -np.sum(np.multiply(np.log(A2),y_train))/y_train.shape[1]\n",
    "    #back propagation\n",
    "    dZ2 = A2-y_train\n",
    "    dW2 = np.dot(dZ2,A1.T)/x_train.shape[1]\n",
    "    db2 = np.sum(dZ2,axis =1,keepdims=True)/x_train.shape[1]\n",
    "    dZ1 = np.dot(w2.T,dZ2)*(1 - np.power(A1, 2))\n",
    "    dW1 = np.dot(dZ1,x_train.T)/x_train.shape[1]\n",
    "    db1 = np.sum(dZ1,axis =1,keepdims=True)/x_train.shape[1]\n",
    "    #update parameters\n",
    "    w1 = w1 - learning_rate * dW1\n",
    "    b1 = b1 - learning_rate * db1\n",
    "    w2 = w2 - learning_rate * dW2\n",
    "    b2 = b2 - learning_rate * db2\n",
    "    if i % 50 == 0:\n",
    "        cost_list.append(cost)\n",
    "        index_list.append(i)\n",
    "        print (\"Cost after %i: th iteration %f\" %(i, cost))"
   ]
  },
  {
   "cell_type": "code",
   "execution_count": 65,
   "id": "c7575bf9",
   "metadata": {
    "scrolled": true
   },
   "outputs": [
    {
     "data": {
      "image/png": "[encoded data removed]",
      "text/plain": [
       "<Figure size 432x288 with 1 Axes>"
      ]
     },
     "metadata": {
      "needs_background": "light"
     },
     "output_type": "display_data"
    }
   ],
   "source": [
    "plt.plot(index_list,cost_list)\n",
    "plt.xticks(index_list,rotation='vertical')\n",
    "plt.xlabel(\"Number of Iterarion\")\n",
    "plt.ylabel(\"Cost\")\n",
    "plt.show()"
   ]
  },
  {
   "cell_type": "markdown",
   "id": "a2f571e0",
   "metadata": {},
   "source": [
    "We now evaluate to see the model performance"
   ]
  },
  {
   "cell_type": "code",
   "execution_count": 66,
   "id": "309d34ed",
   "metadata": {},
   "outputs": [
    {
     "name": "stdout",
     "output_type": "stream",
     "text": [
      "Accuracy: 93.02325581395348 %\n"
     ]
    }
   ],
   "source": [
    "Z1 = np.dot(w1,x_test) + b1\n",
    "A1 = np.tanh(Z1)\n",
    "Z2 = np.dot(w2,A1) + b2\n",
    "A2 = 1/(1+np.exp(-Z2))\n",
    "Y_prediction = np.zeros((1,x_test.shape[1]))\n",
    "for i in range(A2.shape[1]):\n",
    "    if A2[0,i]<= 0.5:\n",
    "        Y_prediction[0,i] = 0\n",
    "    else:\n",
    "        Y_prediction[0,i] = 1\n",
    "\n",
    "print(\"Accuracy: {} %\".format(100 - np.mean(np.abs(Y_prediction - y_test)) * 100))"
   ]
  }
 ],
 "metadata": {
  "kernelspec": {
   "display_name": "Python 3",
   "language": "python",
   "name": "python3"
  },
  "language_info": {
   "codemirror_mode": {
    "name": "ipython",
    "version": 3
   },
   "file_extension": ".py",
   "mimetype": "text/x-python",
   "name": "python",
   "nbconvert_exporter": "python",
   "pygments_lexer": "ipython3",
   "version": "3.8.8"
  }
 },
 "nbformat": 4,
 "nbformat_minor": 5
}
