{
 "cells": [
  {
   "cell_type": "code",
   "execution_count": 35,
   "id": "4e9e65fb",
   "metadata": {},
   "outputs": [],
   "source": [
    "import numpy as np\n",
    "import pandas as pd\n",
    "import matplotlib.pyplot as plt"
   ]
  },
  {
   "cell_type": "code",
   "execution_count": 36,
   "id": "efa73460",
   "metadata": {},
   "outputs": [],
   "source": [
    "df = pd.read_csv(r'/Users/ismail/Desktop/LogReg/heart.csv')"
   ]
  },
  {
   "cell_type": "code",
   "execution_count": 37,
   "id": "c3519ff6",
   "metadata": {},
   "outputs": [],
   "source": [
    "df = df.rename(columns={\"cp\": \"chest_pain_type\",\"trestbps\":\"resting_blood_pressure\",\"chol\":\"serum_cholestoral\",\"fbs\":\"fasting_blood_sugar\",\"restecg\":\"resting_ecg\",\"thalach\":\"maximum_heart_rate\",\"exang\":\"exercise_angina\",\"oldpeak\":\"st_depression\",\"ca\":\"major_colored\",\"slope\":\"st_slope\",\"thal\":\"thalassemia\"})"
   ]
  },
  {
   "cell_type": "markdown",
   "id": "17ac94f5",
   "metadata": {},
   "source": [
    "The aim of this notebook is to implement logistic regresison algortihm, for the sake of simplicity i will extract the categorical variables."
   ]
  },
  {
   "cell_type": "code",
   "execution_count": 38,
   "id": "27c7fb15",
   "metadata": {},
   "outputs": [],
   "source": [
    "y = df.target.values\n",
    "X = df.drop([\"target\",\"sex\",\"chest_pain_type\",\"fasting_blood_sugar\",\"resting_ecg\",\"exercise_angina\",\"st_slope\",\"thalassemia\"],1)"
   ]
  },
  {
   "cell_type": "markdown",
   "id": "27af0fc4",
   "metadata": {},
   "source": [
    "We divide the data by %80 for training the model and %20 to test the trained model"
   ]
  },
  {
   "cell_type": "code",
   "execution_count": 39,
   "id": "1e6dc18a",
   "metadata": {},
   "outputs": [],
   "source": [
    "from sklearn.model_selection import train_test_split\n",
    "X_train, X_test, y_train, y_test = train_test_split(X,y,test_size = 0.2,random_state=42)"
   ]
  },
  {
   "cell_type": "markdown",
   "id": "335cdab9",
   "metadata": {},
   "source": [
    "Data Normalization"
   ]
  },
  {
   "cell_type": "code",
   "execution_count": 40,
   "id": "2ff33dbd",
   "metadata": {},
   "outputs": [],
   "source": [
    "X_train = (X_train - np.min(X_train))/(np.max(X_train)-np.min(X_train)).values"
   ]
  },
  {
   "cell_type": "code",
   "execution_count": 41,
   "id": "5dd95eb8",
   "metadata": {},
   "outputs": [],
   "source": [
    "x_train = X_train.T\n",
    "y_train = y_train.T"
   ]
  },
  {
   "cell_type": "markdown",
   "id": "dbd54422",
   "metadata": {},
   "source": [
    "Logistic Regression algortihm starts here"
   ]
  },
  {
   "cell_type": "markdown",
   "id": "be951f39",
   "metadata": {},
   "source": [
    "First we initialize the weight"
   ]
  },
  {
   "cell_type": "code",
   "execution_count": 42,
   "id": "ed714871",
   "metadata": {},
   "outputs": [],
   "source": [
    "w = np.full((x_train.shape[0],1),0.01)\n",
    "b = 0.0"
   ]
  },
  {
   "cell_type": "code",
   "execution_count": 43,
   "id": "fe3aa216",
   "metadata": {},
   "outputs": [],
   "source": [
    "cost_list = [] # we keep track of the cost values to plot and see how it behaves\n",
    "index_list = [] # to plot correctly on x axis"
   ]
  },
  {
   "cell_type": "code",
   "execution_count": 44,
   "id": "e4a7d5a8",
   "metadata": {},
   "outputs": [],
   "source": [
    "learning_rate = 0.1\n",
    "number_of_iterarion = 2000"
   ]
  },
  {
   "cell_type": "code",
   "execution_count": 45,
   "id": "b1450626",
   "metadata": {},
   "outputs": [],
   "source": [
    "for i in range(number_of_iterarion):\n",
    "    # This is forward propagation\n",
    "    z = (np.dot(w.T,x_train) + b)\n",
    "    y_head = 1/(1+ np.exp(-z))\n",
    "    loss = -y_train*np.log(y_head)-(1-y_train)*np.log(1-y_head)\n",
    "    cost = (np.sum(loss))/(x_train.shape[1])  \n",
    "    \n",
    "    # This is backward propagation\n",
    "    derivative_weight = (np.dot(x_train,((y_head-y_train).T)))/x_train.shape[1]\n",
    "    derivative_bias = np.sum(y_head-y_train)/X_train.shape[1]  \n",
    "    \n",
    "    cost_list.append(cost)\n",
    "    index_list.append(i)\n",
    "    \n",
    "    # This is gradient descent process\n",
    "    w = w - learning_rate * derivative_weight\n",
    "    b = b - learning_rate * derivative_bias"
   ]
  },
  {
   "cell_type": "code",
   "execution_count": 46,
   "id": "c2db0ab5",
   "metadata": {
    "scrolled": true
   },
   "outputs": [
    {
     "data": {
      "image/png": "[encoded data removed]",
      "text/plain": [
       "<Figure size 432x288 with 1 Axes>"
      ]
     },
     "metadata": {
      "needs_background": "light"
     },
     "output_type": "display_data"
    }
   ],
   "source": [
    "plt.plot(index_list,cost_list)\n",
    "plt.xlabel( \"Iterarions\")\n",
    "plt.ylabel(\"Cost\")\n",
    "plt.show()"
   ]
  },
  {
   "cell_type": "code",
   "execution_count": 47,
   "id": "ace58a2b",
   "metadata": {},
   "outputs": [],
   "source": [
    "X_test = (X_test - np.min(X_test))/(np.max(X_test)-np.min(X_test)).values"
   ]
  },
  {
   "cell_type": "code",
   "execution_count": 48,
   "id": "e36570ef",
   "metadata": {},
   "outputs": [],
   "source": [
    "x_test = X_test.T\n",
    "y_test = y_test.T"
   ]
  },
  {
   "cell_type": "code",
   "execution_count": 49,
   "id": "89e0d7e1",
   "metadata": {},
   "outputs": [],
   "source": [
    "z_pre = np.dot(w.T,x_test) + b\n",
    "y_head = 1/(1+ np.exp(-z_pre))\n",
    "y_pred = [0 if i < 0.5 else 1 for i in y_head[0]]"
   ]
  },
  {
   "cell_type": "code",
   "execution_count": 50,
   "id": "19437061",
   "metadata": {},
   "outputs": [
    {
     "data": {
      "text/plain": [
       "0.7868852459016393"
      ]
     },
     "execution_count": 50,
     "metadata": {},
     "output_type": "execute_result"
    }
   ],
   "source": [
    "(len(y_test) - np.count_nonzero(y_test - y_pred))/len(y_test)"
   ]
  },
  {
   "cell_type": "code",
   "execution_count": null,
   "id": "9f1ced63",
   "metadata": {},
   "outputs": [],
   "source": []
  }
 ],
 "metadata": {
  "kernelspec": {
   "display_name": "Python 3",
   "language": "python",
   "name": "python3"
  },
  "language_info": {
   "codemirror_mode": {
    "name": "ipython",
    "version": 3
   },
   "file_extension": ".py",
   "mimetype": "text/x-python",
   "name": "python",
   "nbconvert_exporter": "python",
   "pygments_lexer": "ipython3",
   "version": "3.8.8"
  }
 },
 "nbformat": 4,
 "nbformat_minor": 5
}
